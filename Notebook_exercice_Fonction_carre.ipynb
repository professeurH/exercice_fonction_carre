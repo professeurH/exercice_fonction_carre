{
 "cells": [
  {
   "cell_type": "markdown",
   "metadata": {},
   "source": [
    "<br/>\n",
    "\n",
    "# Énoncé de l'exercice\n",
    "\n",
    "<br/>\n",
    "<br/>"
   ]
  },
  {
   "cell_type": "code",
   "execution_count": null,
   "metadata": {},
   "outputs": [],
   "source": [
    "import sys\n",
    "sys.path.append(\"..\")"
   ]
  },
  {
   "cell_type": "code",
   "execution_count": null,
   "metadata": {},
   "outputs": [],
   "source": [
    "# Veuillez évaluer cette cellule pour charger l'exercice\n",
    "from carre import exo_exemple"
   ]
  },
  {
   "cell_type": "markdown",
   "metadata": {},
   "source": [
    "**On souhaite réaliser une fonction qui permet de calculer l'image d'un nombre réel x par la fonction f(x) = x².**"
   ]
  },
  {
   "cell_type": "code",
   "execution_count": null,
   "metadata": {},
   "outputs": [],
   "source": [
    "# Voici un exemple de fonction qui réalise ce qui est attendu\n",
    "# Le carré de 5 est bien 25.\n",
    "\n",
    "exo_exemple.example(2)"
   ]
  },
  {
   "cell_type": "markdown",
   "metadata": {},
   "source": [
    "# A vous de jouer !\n",
    "<br/>\n",
    "<br/>"
   ]
  },
  {
   "cell_type": "markdown",
   "metadata": {},
   "source": [
    "Écrire ci-dessous une fonction qui :\n",
    "\n",
    "- accepte en argument un nombre réel\n",
    "- retourne le carré de ce nombre"
   ]
  },
  {
   "cell_type": "code",
   "execution_count": null,
   "metadata": {},
   "outputs": [],
   "source": [
    "# Veuillez écrire votre fonction ci-dessous\n",
    "# La fonction ci-dessous n'est qu'un exemple pour que vous puissiez voir comment fonctionne \n",
    "# la cellule d'autocorrection\n",
    "# Ne pas oublier d'évaluer la cellule !\n",
    "def carre(x):\n",
    "    return 25\n"
   ]
  },
  {
   "cell_type": "markdown",
   "metadata": {},
   "source": [
    "# Phase d'autocorrection \n",
    "\n",
    "<br/>\n",
    "<br/>"
   ]
  },
  {
   "cell_type": "markdown",
   "metadata": {},
   "source": [
    "Pour vérifier que votre code est correct et qu'il réaliser bien ce qui est attendu :\n",
    "\n",
    "- Veuillez évaluer la cellule ci-dessous et observer les couleurs des cases\n",
    "- Vous pouvez modifier votre code autant de fois que vous le souhaitez, jusqu'à obtenir toutes les cases vertes"
   ]
  },
  {
   "cell_type": "code",
   "execution_count": null,
   "metadata": {
    "scrolled": true
   },
   "outputs": [],
   "source": [
    "# Validez votre code en évaluant la cellule ci-dessous\n",
    "exo_exemple.correction(carre)"
   ]
  }
 ],
 "metadata": {
  "jupytext": {
   "cell_metadata_filter": "all",
   "encoding": "# -*- coding: utf-8 -*-",
   "formats": "py:percent",
   "notebook_metadata_filter": "all,-language_info,-toc,-jupytext.text_representation.jupytext_version",
   "text_representation": {
    "extension": ".py",
    "format_name": "percent",
    "format_version": "1.3"
   }
  },
  "kernelspec": {
   "display_name": "Python 3",
   "language": "python",
   "name": "python3"
  },
  "language_info": {
   "codemirror_mode": {
    "name": "ipython",
    "version": 3
   },
   "file_extension": ".py",
   "mimetype": "text/x-python",
   "name": "python",
   "nbconvert_exporter": "python",
   "pygments_lexer": "ipython3",
   "version": "3.8.2"
  },
  "notebookname": "NO HEADING 1 found",
  "version": "1.0"
 },
 "nbformat": 4,
 "nbformat_minor": 4
}
